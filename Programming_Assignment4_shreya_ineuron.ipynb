{
 "cells": [
  {
   "cell_type": "markdown",
   "id": "2053a4d7",
   "metadata": {},
   "source": [
    "**1.\tWrite a Python Program to Find the Factorial of a Number?**"
   ]
  },
  {
   "cell_type": "code",
   "execution_count": 1,
   "id": "2f92353d",
   "metadata": {},
   "outputs": [
    {
     "name": "stdout",
     "output_type": "stream",
     "text": [
      "Enter a Value :9\n",
      "factorial = 362880\n"
     ]
    }
   ],
   "source": [
    "n = int(input('Enter a Value :'))\n",
    "f = 1\n",
    "for i in range(1, n+1):\n",
    "    f = f*i\n",
    "print('factorial =', f)"
   ]
  },
  {
   "cell_type": "markdown",
   "id": "2c1e4ea3",
   "metadata": {},
   "source": [
    "**2.\tWrite a Python Program to Display the multiplication Table?**"
   ]
  },
  {
   "cell_type": "code",
   "execution_count": 2,
   "id": "eb80c4a4",
   "metadata": {},
   "outputs": [
    {
     "name": "stdout",
     "output_type": "stream",
     "text": [
      "Enter a Value :12\n",
      "12 x 1 = 12\n",
      "12 x 2 = 24\n",
      "12 x 3 = 36\n",
      "12 x 4 = 48\n",
      "12 x 5 = 60\n",
      "12 x 6 = 72\n",
      "12 x 7 = 84\n",
      "12 x 8 = 96\n",
      "12 x 9 = 108\n",
      "12 x 10 = 120\n"
     ]
    }
   ],
   "source": [
    "n = int(input('Enter a Value :'))\n",
    "for i in range(1 , 11):\n",
    "    print(n , 'x', i, '=', n*i)"
   ]
  },
  {
   "cell_type": "markdown",
   "id": "09153888",
   "metadata": {},
   "source": [
    "**3.\tWrite a Python Program to Print the Fibonacci sequence?**"
   ]
  },
  {
   "cell_type": "code",
   "execution_count": 3,
   "id": "ef8cad01",
   "metadata": {},
   "outputs": [
    {
     "name": "stdout",
     "output_type": "stream",
     "text": [
      "Enter a Value :10\n",
      "[0, 1, 1, 2, 3, 5, 8, 13, 21, 34]\n"
     ]
    }
   ],
   "source": [
    "n = int(input('Enter a Value :'))\n",
    "lst = [0]*n\n",
    "lst[0] = 0\n",
    "lst[1] = 1\n",
    "\n",
    "for i in range(2,n):\n",
    "    lst[i] = lst[i-1] + lst[i-2]\n",
    "    \n",
    "print(lst)"
   ]
  },
  {
   "cell_type": "markdown",
   "id": "1acbbf7e",
   "metadata": {},
   "source": [
    "**4.\tWrite a Python Program to Check Armstrong Number?**"
   ]
  },
  {
   "cell_type": "code",
   "execution_count": 6,
   "id": "1cccd97e",
   "metadata": {},
   "outputs": [
    {
     "name": "stdout",
     "output_type": "stream",
     "text": [
      "Enter a Value :153\n"
     ]
    },
    {
     "data": {
      "text/plain": [
       "True"
      ]
     },
     "execution_count": 6,
     "metadata": {},
     "output_type": "execute_result"
    }
   ],
   "source": [
    "n = int(input('Enter a Value :'))\n",
    "def isArmStrong(n):\n",
    "    strn = str(n)\n",
    "    l = len(strn)\n",
    "    armStr = 0\n",
    "  \n",
    "    for i in strn:\n",
    "        armStr = armStr + (int(i) ** 3)\n",
    "    return armStr == n\n",
    "\n",
    "\n",
    "isArmStrong(n)  "
   ]
  },
  {
   "cell_type": "markdown",
   "id": "67e0eaa0",
   "metadata": {},
   "source": [
    "**5.\tWrite a Python Program to Find Armstrong Number in an Interval?**"
   ]
  },
  {
   "cell_type": "code",
   "execution_count": 8,
   "id": "e466a537",
   "metadata": {},
   "outputs": [
    {
     "name": "stdout",
     "output_type": "stream",
     "text": [
      "Start of your interval: 1\n",
      "End of your interval: 100000\n",
      "1\n",
      "153\n",
      "370\n",
      "371\n",
      "407\n"
     ]
    }
   ],
   "source": [
    "startInt = int(input('Start of your interval: '))\n",
    "endInt = int(input('End of your interval: '))\n",
    "\n",
    "for i in range(startInt, endInt+1):\n",
    "    if isArmStrong(i):\n",
    "        print(i)"
   ]
  },
  {
   "cell_type": "markdown",
   "id": "bce7ba04",
   "metadata": {},
   "source": [
    "**6.\tWrite a Python Program to Find the Sum of Natural Numbers?**"
   ]
  },
  {
   "cell_type": "code",
   "execution_count": 9,
   "id": "4b8f72fb",
   "metadata": {},
   "outputs": [
    {
     "name": "stdout",
     "output_type": "stream",
     "text": [
      "Enter a Value :18\n",
      "171.0\n"
     ]
    }
   ],
   "source": [
    "n = int(input('Enter a Value :'))\n",
    "a = n*(n+1)/2\n",
    "print(a)"
   ]
  }
 ],
 "metadata": {
  "kernelspec": {
   "display_name": "Python 3 (ipykernel)",
   "language": "python",
   "name": "python3"
  },
  "language_info": {
   "codemirror_mode": {
    "name": "ipython",
    "version": 3
   },
   "file_extension": ".py",
   "mimetype": "text/x-python",
   "name": "python",
   "nbconvert_exporter": "python",
   "pygments_lexer": "ipython3",
   "version": "3.9.7"
  }
 },
 "nbformat": 4,
 "nbformat_minor": 5
}
